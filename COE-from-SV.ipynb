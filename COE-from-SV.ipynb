{
 "cells": [
  {
   "cell_type": "markdown",
   "metadata": {},
   "source": [
    "Given the state vector, this code is able to take vector elements of the form: $\\vec{r}=[r_x\\;, r_y\\;, r_z]$ and $\\vec{v}=[v_x,\\;v_y,\\;v_z]$ and convert it to classical orbital elements: $i,\\;\\Omega,\\;e,\\;\\omega,\\;\\theta$"
   ]
  },
  {
   "cell_type": "code",
   "execution_count": 1,
   "metadata": {},
   "outputs": [
    {
     "name": "stdout",
     "output_type": "stream",
     "text": [
      "Position vector in km (separated by a comma): 6472.7,-7470.8,-2469.8\n",
      "Velocity vector in km/s (separated by a comma): 3.9914,2.7916,-3.2948\n",
      "\n",
      "Classical orbital elements (COE) for the given state vector:\n",
      "Inclination i = 35.0°\n",
      "Right ascention of the ascending node Ω=110.0°\n",
      "Eccentricity e=0.2465\n",
      "Argument of perigee ω=74.996°\n",
      "True anomaly θ=130.0°\n"
     ]
    }
   ],
   "source": [
    "import numpy as np\n",
    "\n",
    "mu = 398600 #km^3/s^2\n",
    "\n",
    "# Inputs \n",
    "\n",
    "R = [float(x) for x in input(\"Position vector in km (separated by a comma): \").split(\",\")]\n",
    "r = np.linalg.norm(R)\n",
    "u_R = R/r\n",
    "\n",
    "V = [float(x) for x in input(\"Velocity vector in km/s (separated by a comma): \").split(\",\")]\n",
    "v = np.linalg.norm(V)\n",
    "u_V = V/v\n",
    "\n",
    "# Calculations\n",
    "\n",
    "v_r = np.dot(V,u_R)\n",
    "\n",
    "H = np.cross(R,V)\n",
    "h = np.linalg.norm(H)\n",
    "u_H = H/h\n",
    "\n",
    "i = np.arccos( np.dot(u_H,[0,0,1]) )\n",
    "\n",
    "N = np.cross([0,0,1],H)\n",
    "n = np.linalg.norm(N)\n",
    "u_N = N/n\n",
    "\n",
    "RAAN = np.arccos(np.dot(u_N,[1,0,0]))\n",
    "if N[1] <= 0: RAAN = 2*np.pi - RAAN\n",
    "\n",
    "E = ( np.dot((v**2-mu/r),R) - np.dot(r*v_r,V) ) /mu\n",
    "e = np.linalg.norm(E)\n",
    "u_E = E/e\n",
    "\n",
    "w = np.arccos(np.dot(u_E,u_N))\n",
    "if E[2] <= 0:  w = 2*np.pi - w\n",
    "\n",
    "theta = np.arccos(np.dot(u_E,u_R))\n",
    "if v_r <= 0: theta = 2*np.pi - theta\n",
    "\n",
    "# Printing orbital elements\n",
    "\n",
    "print(\"\\nClassical orbital elements (COE) for the given state vector:\")\n",
    "print(\"Inclination i = {:.5}\\N{DEGREE SIGN}\".format(i*180/np.pi))\n",
    "print(\"Right ascention of the ascending node \\u03A9={:.5}\\N{DEGREE SIGN}\".format(RAAN*180/np.pi))\n",
    "print(\"Eccentricity e={:.5}\".format(e))\n",
    "print(\"Argument of perigee \\u03C9={:.5}\\N{DEGREE SIGN}\".format(w*180/np.pi))\n",
    "print(\"True anomaly \\u03B8={:.5}\\N{DEGREE SIGN}\".format(theta*180/np.pi))"
   ]
  },
  {
   "cell_type": "code",
   "execution_count": 2,
   "metadata": {},
   "outputs": [
    {
     "name": "stdout",
     "output_type": "stream",
     "text": [
      "PRESS ENTER TO CONTINUE.\n"
     ]
    }
   ],
   "source": [
    "wait = input(\"PRESS ENTER TO CONTINUE.\")"
   ]
  }
 ],
 "metadata": {
  "kernelspec": {
   "display_name": "Python 3",
   "language": "python",
   "name": "python3"
  },
  "language_info": {
   "codemirror_mode": {
    "name": "ipython",
    "version": 3
   },
   "file_extension": ".py",
   "mimetype": "text/x-python",
   "name": "python",
   "nbconvert_exporter": "python",
   "pygments_lexer": "ipython3",
   "version": "3.6.5"
  }
 },
 "nbformat": 4,
 "nbformat_minor": 2
}
