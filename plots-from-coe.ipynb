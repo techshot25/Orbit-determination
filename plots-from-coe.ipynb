{
 "cells": [
  {
   "cell_type": "markdown",
   "metadata": {},
   "source": [
    "## 3D plots from COE\n",
    "This code is able to generate a 3D plot of an orbit where the X is given by the vernal equinox and the XY plane is the equitorial plane. This code uses Classical Orbital Elements (COE) to plot them.\n",
    "\n",
    "In a previous code I have shown how to get COE from the state vector."
   ]
  },
  {
   "cell_type": "code",
   "execution_count": 1,
   "metadata": {},
   "outputs": [
    {
     "data": {
      "text/plain": [
       "<Figure size 640x480 with 1 Axes>"
      ]
     },
     "metadata": {},
     "output_type": "display_data"
    }
   ],
   "source": [
    "from mpl_toolkits.mplot3d import Axes3D\n",
    "\n",
    "import numpy as np\n",
    "import matplotlib.pyplot as plt\n",
    "\n",
    "\n",
    "plt.rcParams['legend.fontsize'] = 14\n",
    "\n",
    "fig = plt.figure()\n",
    "ax = fig.gca(projection='3d')\n",
    "\n",
    "# Prepare arrays x, y, z\n",
    "TA = np.linspace(0, 2 * np.pi, 100)\n",
    "w = 1.3089259836558664\n",
    "N = 1.9198559394176944\n",
    "i = 0.6108649727715662\n",
    "a = 9128.820833786065 #h^2/mu * 1/(1-e**2)\n",
    "e = 0.24650338377052325\n",
    "\n",
    "R = a * (1 - e**2) / (1 + e * np.cos(TA))\n",
    "x = R * (np.cos(N) * np.cos(TA + w) - np.sin(N) * np.sin(TA+w) * np.cos(i))\n",
    "y = R * (np.sin(N) * np.cos(TA+w) + np.cos(N) * np.sin(TA+w)) * np.cos(i)\n",
    "z = R * np.sin(TA+w) * np.sin(i)\n",
    "\n",
    "ax.plot(x, y, z,'g', label='Orbit')\n",
    "ax.legend()\n",
    "\n",
    "plt.xlabel('X (km)')\n",
    "plt.ylabel('Y (km)')\n",
    "\n",
    "plt.show()"
   ]
  },
  {
   "cell_type": "markdown",
   "metadata": {},
   "source": [
    "## 2D perifocal plot from COE\n",
    "This code generates the perifocal 2D plot for any orbit using COE and/or state vector."
   ]
  },
  {
   "cell_type": "code",
   "execution_count": 2,
   "metadata": {},
   "outputs": [
    {
     "data": {
      "image/png": "[encoded data removed]",
      "text/plain": [
       "<Figure size 432x288 with 1 Axes>"
      ]
     },
     "metadata": {},
     "output_type": "display_data"
    }
   ],
   "source": [
    "TA = np.linspace(0,2*np.pi,100)\n",
    "\n",
    "e=0.5; mu = 368400.; h = 9145.\n",
    "\n",
    "x = h**2/mu*np.cos(TA)/(1+e*np.cos(TA))\n",
    "y = h**2/mu*np.sin(TA)/(1+e*np.cos(TA))\n",
    "\n",
    "plt.figure()\n",
    "plt.axes().set_aspect('equal', 'datalim')\n",
    "plt.plot(x, y, 'r')\n",
    "plt.xlabel('p (km)')\n",
    "plt.ylabel('q (km)')\n",
    "plt.title('2D Perifocal frame plot')\n",
    "plt.show()"
   ]
  },
  {
   "cell_type": "code",
   "execution_count": null,
   "metadata": {},
   "outputs": [],
   "source": []
  }
 ],
 "metadata": {
  "kernelspec": {
   "display_name": "Python 3",
   "language": "python",
   "name": "python3"
  },
  "language_info": {
   "codemirror_mode": {
    "name": "ipython",
    "version": 3
   },
   "file_extension": ".py",
   "mimetype": "text/x-python",
   "name": "python",
   "nbconvert_exporter": "python",
   "pygments_lexer": "ipython3",
   "version": "3.6.5"
  }
 },
 "nbformat": 4,
 "nbformat_minor": 2
}
